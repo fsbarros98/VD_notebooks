{
 "cells": [
  {
   "cell_type": "markdown",
   "metadata": {},
   "source": [
    "### Plotting a Function Curve"
   ]
  },
  {
   "cell_type": "code",
   "execution_count": null,
   "metadata": {},
   "outputs": [],
   "source": [
    "library(ggplot2)\n",
    "library(gcookbook)\n",
    "# let's increase the size of the plot\n",
    "options(repr.plot.width=6, repr.plot.height=7, repr.plot.res = 150)"
   ]
  },
  {
   "cell_type": "code",
   "execution_count": null,
   "metadata": {
    "scrolled": true
   },
   "outputs": [],
   "source": [
    "# It is possible to plot any function that takes a numeric vector as input\n",
    "# and which returns also a numeric vector\n",
    "curve(x^3-5*x, from=-4, to=4)"
   ]
  },
  {
   "cell_type": "code",
   "execution_count": null,
   "metadata": {},
   "outputs": [],
   "source": [
    "myfun <- function(xvar){\n",
    "    1/(1 + exp(-xvar + 10))\n",
    "}"
   ]
  },
  {
   "cell_type": "code",
   "execution_count": null,
   "metadata": {
    "scrolled": true
   },
   "outputs": [],
   "source": [
    "# to plot this function\n",
    "curve(myfun(x), from=0, to=20)"
   ]
  },
  {
   "cell_type": "markdown",
   "metadata": {},
   "source": [
    "### Now using ggplot2:"
   ]
  },
  {
   "cell_type": "code",
   "execution_count": null,
   "metadata": {},
   "outputs": [],
   "source": [
    "# with ggplot we need to create the dataset, which will be a data.frame\n",
    "ggplot(data.frame(x=c(0,20)), aes(x=x)) +\n",
    "stat_function(fun=myfun, geom=\"line\") +\n",
    "stat_function(fun = cos, colour = \"blue\")"
   ]
  },
  {
   "cell_type": "markdown",
   "metadata": {},
   "source": [
    "## Creating different types of Bar Graphs"
   ]
  },
  {
   "cell_type": "markdown",
   "metadata": {},
   "source": [
    "### Plotting Bars"
   ]
  },
  {
   "cell_type": "code",
   "execution_count": null,
   "metadata": {},
   "outputs": [],
   "source": [
    "# another datset -> check what it is about...\n",
    "pg_mean"
   ]
  },
  {
   "cell_type": "code",
   "execution_count": null,
   "metadata": {},
   "outputs": [],
   "source": [
    "ggplot(pg_mean, aes(x=group, y=weight)) +\n",
    "    geom_bar(stat=\"identity\")"
   ]
  },
  {
   "cell_type": "code",
   "execution_count": null,
   "metadata": {},
   "outputs": [],
   "source": [
    "# Now, let's test with more observations\n",
    "BOD"
   ]
  },
  {
   "cell_type": "code",
   "execution_count": null,
   "metadata": {},
   "outputs": [],
   "source": [
    "ggplot(BOD, aes(x=Time, y=demand)) + geom_bar(stat=\"identity\")"
   ]
  },
  {
   "cell_type": "code",
   "execution_count": null,
   "metadata": {},
   "outputs": [],
   "source": [
    "ggplot(BOD, aes(x=factor(Time), y=demand)) + geom_bar(stat=\"identity\")"
   ]
  },
  {
   "cell_type": "code",
   "execution_count": null,
   "metadata": {},
   "outputs": [],
   "source": [
    "# Using colors and limiting Y axis\n",
    "ggplot(pg_mean, aes(x=group, y=weight)) +\n",
    "    geom_bar(stat=\"identity\", fill=\"lightblue\", colour=\"black\", width=0.8) +\n",
    "    coord_cartesian(ylim=c(4.5,5.7))"
   ]
  },
  {
   "cell_type": "markdown",
   "metadata": {},
   "source": [
    "### grouping bars"
   ]
  },
  {
   "cell_type": "code",
   "execution_count": null,
   "metadata": {},
   "outputs": [],
   "source": [
    "cabbage_exp\n",
    "# This data set has groupwise means, standard deviations, counts (n),\n",
    "# and standard error of the mean for the cabbages data set from the MASS package.\n",
    "# The purpose of this summarized data set is to make it easy to use for example graphs. "
   ]
  },
  {
   "cell_type": "code",
   "execution_count": null,
   "metadata": {},
   "outputs": [],
   "source": [
    "# Mapping the filling color to a variable\n",
    "ggplot(cabbage_exp, aes(x=Date, y=Weight, fill=Cultivar)) +\n",
    "    geom_bar(stat=\"identity\")\n",
    "#   geom_bar(stat=\"identity\", position=\"dodge\")\n",
    "#   geom_bar(stat=\"identity\", position=position_dodge(0.9))\n",
    "#   geom_bar(stat=\"identity\", width=0.9, position=position_dodge(0.9))"
   ]
  },
  {
   "cell_type": "code",
   "execution_count": null,
   "metadata": {},
   "outputs": [],
   "source": [
    "ggplot(cabbage_exp, aes(x=Date, y=Weight, fill=Cultivar)) +\n",
    "    geom_bar(stat=\"identity\", position=\"dodge\", colour=\"black\") +\n",
    "    scale_fill_brewer(palette=\"Pastel1\")"
   ]
  },
  {
   "cell_type": "code",
   "execution_count": null,
   "metadata": {},
   "outputs": [],
   "source": [
    "# Let's check another dataset, with even more observations\n",
    "head(diamonds,25)"
   ]
  },
  {
   "cell_type": "code",
   "execution_count": null,
   "metadata": {},
   "outputs": [],
   "source": [
    "ggplot(diamonds, aes(x=cut)) + geom_bar()"
   ]
  },
  {
   "cell_type": "code",
   "execution_count": null,
   "metadata": {},
   "outputs": [],
   "source": [
    "ggplot(diamonds, aes(x=carat)) + geom_bar()"
   ]
  },
  {
   "cell_type": "code",
   "execution_count": null,
   "metadata": {},
   "outputs": [],
   "source": [
    "# Let's change again the dataset to the US population change\n",
    "head(uspopchange,51)"
   ]
  },
  {
   "cell_type": "code",
   "execution_count": null,
   "metadata": {},
   "outputs": [],
   "source": [
    "# testing the rank function\n",
    "r<-c(3,4,6,1,8)\n",
    "rank(r)"
   ]
  },
  {
   "cell_type": "code",
   "execution_count": null,
   "metadata": {},
   "outputs": [],
   "source": [
    "# Now, select the top 10 states by filtering observations\n",
    "upc <- subset(uspopchange, rank(Change)>40)\n",
    "upc"
   ]
  },
  {
   "cell_type": "code",
   "execution_count": null,
   "metadata": {},
   "outputs": [],
   "source": [
    "upc2 <- upc[order(upc$Change, decreasing=TRUE),]\n",
    "upc2"
   ]
  },
  {
   "cell_type": "code",
   "execution_count": null,
   "metadata": {},
   "outputs": [],
   "source": [
    "# Check that the values in x ARE NOT reordered\n",
    "ggplot(upc2, aes(x=Abb, y=Change, fill=Region)) +\n",
    "    geom_bar(stat=\"identity\")"
   ]
  },
  {
   "cell_type": "code",
   "execution_count": null,
   "metadata": {},
   "outputs": [],
   "source": [
    "# Now, let's reorder the bars Decreasingly\n",
    "ggplot(upc, aes(x=reorder(Abb, -Change), y=Change, fill=Region)) +\n",
    "    geom_bar(stat=\"identity\", colour=\"black\") +\n",
    "    scale_fill_manual(values=c(\"#996633\", \"#FFCC66\")) +  # we need 2 colors for the 2 classes\n",
    "    xlab(\"State\") # create a general label for the x axis"
   ]
  },
  {
   "cell_type": "code",
   "execution_count": null,
   "metadata": {},
   "outputs": [],
   "source": [
    "# The climate dataset with 499 observations and 6 variables\n",
    "climate"
   ]
  },
  {
   "cell_type": "code",
   "execution_count": null,
   "metadata": {},
   "outputs": [],
   "source": [
    "# Create subset only from Berkeley and in a period of time\n",
    "csub <- subset(climate, Source==\"Berkeley\" & Year >= 1900)\n",
    "head(csub,10)"
   ]
  },
  {
   "cell_type": "code",
   "execution_count": null,
   "metadata": {},
   "outputs": [],
   "source": [
    "# Now, create a new column (pos) which indicates whether the Anomaly10y is positive or not\n",
    "csub$pos <- (csub$Anomaly10y >= 0)"
   ]
  },
  {
   "cell_type": "code",
   "execution_count": null,
   "metadata": {},
   "outputs": [],
   "source": [
    "head(csub)"
   ]
  },
  {
   "cell_type": "code",
   "execution_count": null,
   "metadata": {},
   "outputs": [],
   "source": [
    "# Use the new variable to map color\n",
    "ggplot(csub, aes(x=Year, y=Anomaly10y, fill=pos)) +\n",
    "    geom_bar(stat=\"identity\")"
   ]
  },
  {
   "cell_type": "code",
   "execution_count": null,
   "metadata": {},
   "outputs": [],
   "source": [
    "ggplot(csub, aes(x=Year, y=Anomaly10y, fill=pos)) +\n",
    "    geom_bar(stat=\"identity\", color=\"black\", size=0.25) +\n",
    "    scale_fill_manual(values=c(\"#CCEEFF\", \"#FFDDDD\"), guide=FALSE)"
   ]
  },
  {
   "cell_type": "markdown",
   "metadata": {},
   "source": [
    "### Stacked Bar Graph"
   ]
  },
  {
   "cell_type": "code",
   "execution_count": null,
   "metadata": {},
   "outputs": [],
   "source": [
    "cabbage_exp"
   ]
  },
  {
   "cell_type": "code",
   "execution_count": null,
   "metadata": {},
   "outputs": [],
   "source": [
    "ggplot(cabbage_exp, aes(x=Date, y=Weight, fill=Cultivar)) +\n",
    "    geom_bar(stat=\"identity\")"
   ]
  },
  {
   "cell_type": "code",
   "execution_count": null,
   "metadata": {},
   "outputs": [],
   "source": [
    "ggplot(cabbage_exp, aes(x=Date, y=Weight, fill=Cultivar)) +\n",
    "    geom_bar(stat=\"identity\") +\n",
    "    guides(fill=guide_legend(reverse=TRUE))"
   ]
  },
  {
   "cell_type": "markdown",
   "metadata": {},
   "source": [
    "### Proportional Stacked Bar Graph"
   ]
  },
  {
   "cell_type": "code",
   "execution_count": null,
   "metadata": {},
   "outputs": [],
   "source": [
    "install.packages(\"plyr\")\n",
    "library(plyr)  # Needed for ddply()"
   ]
  },
  {
   "cell_type": "code",
   "execution_count": null,
   "metadata": {},
   "outputs": [],
   "source": [
    "cabbage_exp"
   ]
  },
  {
   "cell_type": "code",
   "execution_count": null,
   "metadata": {},
   "outputs": [],
   "source": [
    "# Do a group-wise transformation, splitting on Date\n",
    "ce <- ddply(cabbage_exp, \"Date\", transform, percent_weight = Weight / sum(Weight) * 100)\n",
    "ce"
   ]
  },
  {
   "cell_type": "code",
   "execution_count": null,
   "metadata": {},
   "outputs": [],
   "source": [
    "ggplot(ce, aes(x=Date, y=percent_weight, fill=Cultivar)) +\n",
    "    geom_bar(stat=\"identity\")"
   ]
  },
  {
   "cell_type": "markdown",
   "metadata": {},
   "source": [
    "### Add Labels to a Bar Graph and Adjust YY axis"
   ]
  },
  {
   "cell_type": "code",
   "execution_count": null,
   "metadata": {},
   "outputs": [],
   "source": [
    "# Use geom_text() to insert labels; vjust to move text below the top\n",
    "ggplot(cabbage_exp, aes(x=interaction(Date, Cultivar), y=Weight)) +\n",
    "    geom_bar(stat=\"identity\") +\n",
    "    geom_text(aes(label=Weight), vjust=1.5, color=\"white\")"
   ]
  },
  {
   "cell_type": "code",
   "execution_count": null,
   "metadata": {},
   "outputs": [],
   "source": [
    "# Use vjust to move text above the top\n",
    "ggplot(cabbage_exp, aes(x=interaction(Date, Cultivar), y=Weight)) +\n",
    "    geom_bar(stat=\"identity\") +\n",
    "    geom_text(aes(label=Weight), vjust=-0.5)"
   ]
  },
  {
   "cell_type": "code",
   "execution_count": null,
   "metadata": {},
   "outputs": [],
   "source": [
    "# Adjust y limits to be a little higher\n",
    "ggplot(cabbage_exp, aes(x=interaction(Date, Cultivar), y=Weight)) +\n",
    "    geom_bar(stat=\"identity\") +\n",
    "    geom_text(aes(label=Weight), vjust=-0.5) +\n",
    "    ylim(0, max(cabbage_exp$Weight) * 1.15)\n",
    "\n",
    "# This is different from coord_cartesian(). Why?"
   ]
  },
  {
   "cell_type": "code",
   "execution_count": null,
   "metadata": {},
   "outputs": [],
   "source": [
    "# Can you antecipate what will appear?\n",
    "ggplot(cabbage_exp, aes(x=Date, fill=Cultivar, y=Weight)) +\n",
    "    geom_bar(stat=\"identity\", position=\"dodge\") +\n",
    "    geom_text(aes(label=Weight), vjust=1.5, color=\"white\",\n",
    "                position=position_dodge(.9), size=5)"
   ]
  },
  {
   "cell_type": "code",
   "execution_count": null,
   "metadata": {},
   "outputs": [],
   "source": []
  }
 ],
 "metadata": {
  "kernelspec": {
   "display_name": "R",
   "language": "R",
   "name": "ir"
  },
  "language_info": {
   "codemirror_mode": "r",
   "file_extension": ".r",
   "mimetype": "text/x-r-source",
   "name": "R",
   "pygments_lexer": "r",
   "version": "3.6.1"
  }
 },
 "nbformat": 4,
 "nbformat_minor": 2
}
