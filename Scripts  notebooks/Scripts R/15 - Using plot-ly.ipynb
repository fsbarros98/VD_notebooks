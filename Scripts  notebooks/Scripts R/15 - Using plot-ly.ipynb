{
 "cells": [
  {
   "cell_type": "markdown",
   "metadata": {},
   "source": [
    "### The use of the plot_ly function"
   ]
  },
  {
   "cell_type": "code",
   "execution_count": null,
   "metadata": {},
   "outputs": [],
   "source": [
    "# install the plotly package to use plot_ly and ggplotly\n",
    "install.packages(\"plotly\")"
   ]
  },
  {
   "cell_type": "code",
   "execution_count": null,
   "metadata": {},
   "outputs": [],
   "source": [
    "# Remember:\n",
    "# a graph with plotly is powered by the Javascript library plotly.js\n",
    "# the plot_ly() function provides a direct interface to plotly.js"
   ]
  },
  {
   "cell_type": "code",
   "execution_count": null,
   "metadata": {},
   "outputs": [],
   "source": [
    "library(ggplot2)\n",
    "library(plotly)"
   ]
  },
  {
   "cell_type": "code",
   "execution_count": null,
   "metadata": {},
   "outputs": [],
   "source": [
    "# We will use the diamonds dataset\n",
    "# our main focus will be on variables carat, cut, color and clarity\n",
    "head(diamonds)"
   ]
  },
  {
   "cell_type": "code",
   "execution_count": null,
   "metadata": {},
   "outputs": [],
   "source": [
    "plot_ly(diamonds, x=~cut)"
   ]
  },
  {
   "cell_type": "code",
   "execution_count": null,
   "metadata": {
    "scrolled": false
   },
   "outputs": [],
   "source": [
    "plot_ly(diamonds, x=~cut, y=~clarity)"
   ]
  },
  {
   "cell_type": "code",
   "execution_count": null,
   "metadata": {},
   "outputs": [],
   "source": [
    "plot_ly(diamonds, x=~cut, color=~clarity)\n",
    "plot_ly(diamonds, x=~cut, color=~clarity, colors=\"Accent\")\n"
   ]
  },
  {
   "cell_type": "code",
   "execution_count": null,
   "metadata": {},
   "outputs": [],
   "source": [
    "# Now, let's try (and fail) to map colors to graph elements\n",
    "plot_ly(diamonds, x=~cut, color=\"black\")"
   ]
  },
  {
   "cell_type": "code",
   "execution_count": null,
   "metadata": {},
   "outputs": [],
   "source": [
    "# use the \"AsIs\" function to map colors directly, I()\n",
    "plot_ly(diamonds, x=~cut,\n",
    "       color=I(\"red\"),\n",
    "       stroke=I(\"black\"),\n",
    "       span=I(2))"
   ]
  },
  {
   "cell_type": "code",
   "execution_count": null,
   "metadata": {},
   "outputs": [],
   "source": [
    "# Insert a title\n",
    "layout(\n",
    "plot_ly(diamonds, x=~cut),\n",
    "title=\"My histogram\"\n",
    ")"
   ]
  },
  {
   "cell_type": "code",
   "execution_count": null,
   "metadata": {},
   "outputs": [],
   "source": [
    "# Check the economics dataset\n",
    "head(economics)"
   ]
  },
  {
   "cell_type": "code",
   "execution_count": null,
   "metadata": {},
   "outputs": [],
   "source": [
    "p <- economics %>%\n",
    "    plot_ly(x=~date, y=~psavert)\n",
    "p"
   ]
  },
  {
   "cell_type": "code",
   "execution_count": null,
   "metadata": {},
   "outputs": [],
   "source": [
    "# usign row ordering to connect the dots\n",
    "add_paths(p)"
   ]
  },
  {
   "cell_type": "code",
   "execution_count": null,
   "metadata": {},
   "outputs": [],
   "source": [
    "p <- economics %>%\n",
    "    arrange(psavert) %>%\n",
    "    plot_ly(x=~date, y=~psavert)\n",
    "p\n",
    "add_paths(p)\n",
    "# Can you understand the result?"
   ]
  },
  {
   "cell_type": "code",
   "execution_count": null,
   "metadata": {},
   "outputs": [],
   "source": [
    "# usign x ordering to connect the dots\n",
    "add_lines(p)"
   ]
  },
  {
   "cell_type": "code",
   "execution_count": null,
   "metadata": {},
   "outputs": [],
   "source": [
    "library(lubridate)\n",
    "econ <- economics %>% mutate(yr=year(date), mnth=month(date))\n",
    "head(econ)"
   ]
  },
  {
   "cell_type": "code",
   "execution_count": null,
   "metadata": {},
   "outputs": [],
   "source": [
    "econ %>%\n",
    "    group_by(yr) %>%\n",
    "    plot_ly(x=~mnth, y=~uempmed) %>%\n",
    "    add_lines(text=~yr)"
   ]
  },
  {
   "cell_type": "code",
   "execution_count": null,
   "metadata": {},
   "outputs": [],
   "source": [
    "plot_ly(econ, x=~mnth, y=~uempmed) %>%\n",
    "    add_lines(color=~ordered(yr))"
   ]
  },
  {
   "cell_type": "code",
   "execution_count": null,
   "metadata": {},
   "outputs": [],
   "source": []
  }
 ],
 "metadata": {
  "kernelspec": {
   "display_name": "R",
   "language": "R",
   "name": "ir"
  },
  "language_info": {
   "codemirror_mode": "r",
   "file_extension": ".r",
   "mimetype": "text/x-r-source",
   "name": "R",
   "pygments_lexer": "r",
   "version": "4.0.2"
  }
 },
 "nbformat": 4,
 "nbformat_minor": 4
}
