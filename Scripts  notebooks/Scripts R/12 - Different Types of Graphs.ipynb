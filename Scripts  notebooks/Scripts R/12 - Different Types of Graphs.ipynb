{
 "cells": [
  {
   "cell_type": "code",
   "execution_count": null,
   "metadata": {},
   "outputs": [],
   "source": [
    "library(ggplot2)\n",
    "library(gcookbook)\n",
    "options(repr.plot.width=10, repr.plot.height=7, repr.plot.res = 200)"
   ]
  },
  {
   "cell_type": "markdown",
   "metadata": {},
   "source": [
    "### Making a Violin plot"
   ]
  },
  {
   "cell_type": "code",
   "execution_count": null,
   "metadata": {},
   "outputs": [],
   "source": [
    "# Let's use a very simple dataset with more than 200 observations\n",
    "str(heightweight)"
   ]
  },
  {
   "cell_type": "code",
   "execution_count": null,
   "metadata": {},
   "outputs": [],
   "source": [
    "# Violin plots are useful to compare density estimates of different groups\n",
    "p <- ggplot(heightweight, aes(x=sex, y=heightIn))\n",
    "p + geom_violin()"
   ]
  },
  {
   "cell_type": "code",
   "execution_count": null,
   "metadata": {},
   "outputs": [],
   "source": [
    "# Violin areas are scaled so that total area of each one is the same.\n",
    "# If we use scale=\"count\" the areas are proportional to the number of observations\n",
    "p + geom_violin(scale=\"count\") # notice the f violin is slightly narrower"
   ]
  },
  {
   "cell_type": "code",
   "execution_count": null,
   "metadata": {},
   "outputs": [],
   "source": [
    "# Violins also have smoothing lines, which can be controlled\n",
    "# More smoohting:\n",
    "p + geom_violin(adjust=2) # default is 1"
   ]
  },
  {
   "cell_type": "code",
   "execution_count": null,
   "metadata": {},
   "outputs": [],
   "source": [
    "# Less smoohting\n",
    "p + geom_violin(adjust=0.5)"
   ]
  },
  {
   "cell_type": "markdown",
   "metadata": {},
   "source": [
    "### Making a Density Plot of Two-Dimensional data"
   ]
  },
  {
   "cell_type": "code",
   "execution_count": null,
   "metadata": {},
   "outputs": [],
   "source": [
    "# The stat_density2d() function makes a 2D kernel density estimate from the data"
   ]
  },
  {
   "cell_type": "code",
   "execution_count": null,
   "metadata": {},
   "outputs": [],
   "source": [
    "str(faithful)\n",
    "head(faithful)"
   ]
  },
  {
   "cell_type": "code",
   "execution_count": null,
   "metadata": {},
   "outputs": [],
   "source": [
    "p <- ggplot(faithful, aes(eruptions, y=waiting))\n",
    "p + geom_point() + stat_density2d()"
   ]
  },
  {
   "cell_type": "code",
   "execution_count": null,
   "metadata": {},
   "outputs": [],
   "source": [
    "# stat_density2d has internal variables: level and density\n",
    "# Let's use the level internal variable\n",
    "p + stat_density2d(aes(color=..level..))"
   ]
  },
  {
   "cell_type": "code",
   "execution_count": null,
   "metadata": {},
   "outputs": [],
   "source": [
    "# The default is to use contour lines but it's also possible to use tiles and map density estimate to a fill color."
   ]
  },
  {
   "cell_type": "code",
   "execution_count": null,
   "metadata": {},
   "outputs": [],
   "source": [
    "# Map density estimate to fill color using the internal density variable\n",
    "p + stat_density2d(aes(fill=..density..), geom=\"raster\", contour=FALSE)"
   ]
  },
  {
   "cell_type": "code",
   "execution_count": null,
   "metadata": {},
   "outputs": [],
   "source": [
    "# With points, map density estimate to alpha\n",
    "# instead of raster (all points) use tiles\n",
    "p + geom_point() +\n",
    "    stat_density2d(aes(alpha=..density..), geom=\"tile\", contour=FALSE) # raster should be slightly better"
   ]
  },
  {
   "cell_type": "code",
   "execution_count": null,
   "metadata": {},
   "outputs": [],
   "source": [
    "# Changing the x and y bandwidths by using a vector assigned to parameter h (this part is art!)\n",
    "p + stat_density2d(aes(fill=..density..), geom=\"raster\",\n",
    "                   contour=FALSE, h=c(0.5,5))"
   ]
  },
  {
   "cell_type": "markdown",
   "metadata": {},
   "source": [
    "### Adding Lines"
   ]
  },
  {
   "cell_type": "code",
   "execution_count": null,
   "metadata": {},
   "outputs": [],
   "source": [
    "p <- ggplot(heightweight, aes(x=ageYear, y=heightIn, color=sex)) + geom_point()\n",
    "p"
   ]
  },
  {
   "cell_type": "code",
   "execution_count": null,
   "metadata": {},
   "outputs": [],
   "source": [
    "p + geom_hline(yintercept=60) + geom_vline(xintercept=14)"
   ]
  },
  {
   "cell_type": "code",
   "execution_count": null,
   "metadata": {},
   "outputs": [],
   "source": [
    "p + geom_abline(intercept=37.4, slope=1.75)"
   ]
  },
  {
   "cell_type": "markdown",
   "metadata": {},
   "source": [
    "### Making a Circular Map"
   ]
  },
  {
   "cell_type": "code",
   "execution_count": null,
   "metadata": {},
   "outputs": [],
   "source": [
    "head(wind)"
   ]
  },
  {
   "cell_type": "code",
   "execution_count": null,
   "metadata": {},
   "outputs": [],
   "source": [
    "ggplot(wind, aes(x=DirCat, fill=SpeedCat)) +\n",
    "    geom_histogram(binwidth=15) +\n",
    "    coord_polar() +\n",
    "    scale_x_continuous(limits=c(0,360))"
   ]
  },
  {
   "cell_type": "code",
   "execution_count": null,
   "metadata": {},
   "outputs": [],
   "source": [
    "ggplot(wind, aes(x=DirCat, fill=SpeedCat)) +\n",
    "    geom_histogram(binwidth=15, color=\"black\", size=0.25) +\n",
    "    guides(fill=guide_legend(reverse=TRUE)) +\n",
    "    coord_polar() +\n",
    "    scale_x_continuous(limits=c(0,360), breaks=seq(0, 360, by=45), minor_breaks=seq(0, 360, by=15)) +\n",
    "    scale_fill_brewer()"
   ]
  },
  {
   "cell_type": "markdown",
   "metadata": {},
   "source": [
    "## Introduction to treemapify"
   ]
  },
  {
   "cell_type": "code",
   "execution_count": null,
   "metadata": {},
   "outputs": [],
   "source": [
    "install.packages(\"treemapify\")"
   ]
  },
  {
   "cell_type": "code",
   "execution_count": null,
   "metadata": {},
   "outputs": [],
   "source": [
    "library(treemapify)"
   ]
  },
  {
   "cell_type": "code",
   "execution_count": null,
   "metadata": {},
   "outputs": [],
   "source": [
    "G20"
   ]
  },
  {
   "cell_type": "code",
   "execution_count": null,
   "metadata": {},
   "outputs": [],
   "source": [
    "ggplot(G20, aes(area = gdp_mil_usd, fill = hdi)) +\n",
    "    geom_treemap()"
   ]
  },
  {
   "cell_type": "code",
   "execution_count": null,
   "metadata": {},
   "outputs": [],
   "source": [
    "# Now, let's identify the tiles using labels mapped to countries\n",
    "# check if ggfittext is already installed.\n",
    "\n",
    "ggplot(G20, aes(area = gdp_mil_usd, fill = hdi, label = country)) +\n",
    "  geom_treemap() +\n",
    "  geom_treemap_text(fontface = \"italic\", colour = \"white\",\n",
    "                    place = \"centre\", grow = TRUE)"
   ]
  },
  {
   "cell_type": "code",
   "execution_count": null,
   "metadata": {},
   "outputs": [],
   "source": [
    "# Subgrouping in the treemap\n",
    "ggplot(G20, aes(area = gdp_mil_usd, fill = hdi, label = country,\n",
    "                subgroup = region)) +\n",
    "  geom_treemap() +\n",
    "  geom_treemap_subgroup_border() +\n",
    "  geom_treemap_subgroup_text(place = \"centre\", grow = TRUE, alpha = 0.4, colour =\n",
    "                             \"black\", fontface = \"italic\", min.size = 0) +\n",
    "  geom_treemap_text(colour = \"white\", place = \"topleft\", reflow = T)"
   ]
  },
  {
   "cell_type": "code",
   "execution_count": null,
   "metadata": {},
   "outputs": [],
   "source": [
    "# Finally, grouping north and south regions\n",
    "ggplot(G20, aes(area = 1, label = country, subgroup = hemisphere,\n",
    "                subgroup2 = region, subgroup3 = econ_classification)) +\n",
    "  geom_treemap() +\n",
    "  geom_treemap_subgroup3_border(colour = \"blue\", size = 1) +\n",
    "  geom_treemap_subgroup2_border(colour = \"white\", size = 3) +\n",
    "  geom_treemap_subgroup_border(colour = \"red\", size = 5) +\n",
    "  geom_treemap_subgroup_text(\n",
    "    place = \"middle\",\n",
    "    colour = \"red\",\n",
    "    alpha = 0.5,\n",
    "    grow = T\n",
    "  ) +\n",
    "  geom_treemap_subgroup2_text(\n",
    "    colour = \"white\",\n",
    "    alpha = 0.5,\n",
    "    fontface = \"italic\"\n",
    "  ) +\n",
    "  geom_treemap_subgroup3_text(place = \"top\", colour = \"yellow\", alpha = 0.5) +\n",
    "  geom_treemap_text(colour = \"white\", place = \"middle\", reflow = T)"
   ]
  },
  {
   "cell_type": "markdown",
   "metadata": {},
   "source": [
    "### Just for the sake of curiosity, we can also use another package to create treemaps"
   ]
  },
  {
   "cell_type": "code",
   "execution_count": null,
   "metadata": {},
   "outputs": [],
   "source": [
    "# using the treemap\n",
    "install.packages(\"treemap\")\n",
    "library(treemap)"
   ]
  },
  {
   "cell_type": "code",
   "execution_count": null,
   "metadata": {},
   "outputs": [],
   "source": [
    "# Create data\n",
    "group <- c(\"group-1\",\"group-2\",\"group-3\")\n",
    "value <- c(13,5,22)\n",
    "data <- data.frame(group,value)"
   ]
  },
  {
   "cell_type": "code",
   "execution_count": null,
   "metadata": {},
   "outputs": [],
   "source": [
    "# treemap\n",
    "treemap(data,\n",
    "            index=\"group\",\n",
    "            vSize=\"value\",\n",
    "            type=\"index\"\n",
    "            )"
   ]
  },
  {
   "cell_type": "code",
   "execution_count": null,
   "metadata": {},
   "outputs": [],
   "source": [
    "# Create data\n",
    "group <- c(rep(\"group-1\",4),rep(\"group-2\",2),rep(\"group-3\",3))\n",
    "subgroup <- paste(\"subgroup\" , c(1,2,3,4,1,2,1,2,3), sep=\"-\")\n",
    "value <- c(13,5,22,12,11,7,3,1,23)\n",
    "data <- data.frame(group,subgroup,value)\n",
    " \n",
    "# Custom labels:\n",
    "treemap(data, index=c(\"group\",\"subgroup\"),     vSize=\"value\", type=\"index\",\n",
    " \n",
    "    fontsize.labels=c(15,12),                # size of labels. Give the size per level of aggregation: size for group, size for subgroup, sub-subgroups...\n",
    "    fontcolor.labels=c(\"white\",\"orange\"),    # Color of labels\n",
    "    fontface.labels=c(2,1),                  # Font of labels: 1,2,3,4 for normal, bold, italic, bold-italic...\n",
    "    bg.labels=c(\"transparent\"),              # Background color of labels\n",
    "    align.labels=list(\n",
    "        c(\"center\", \"center\"), \n",
    "        c(\"right\", \"bottom\")\n",
    "        ),                                   # Where to place labels in the rectangle?\n",
    "    overlap.labels=0.5,                      # number between 0 and 1 that determines the tolerance of the overlap between labels. 0 means that labels of lower levels are not printed if higher level labels overlap, 1  means that labels are always printed. In-between values, for instance the default value .5, means that lower level labels are printed if other labels do not overlap with more than .5  times their area size.\n",
    "    inflate.labels=F,                        # If true, labels are bigger when rectangle is bigger.\n",
    " \n",
    ")"
   ]
  },
  {
   "cell_type": "code",
   "execution_count": null,
   "metadata": {},
   "outputs": [],
   "source": []
  }
 ],
 "metadata": {
  "kernelspec": {
   "display_name": "R",
   "language": "R",
   "name": "ir"
  },
  "language_info": {
   "codemirror_mode": "r",
   "file_extension": ".r",
   "mimetype": "text/x-r-source",
   "name": "R",
   "pygments_lexer": "r",
   "version": "4.0.2"
  }
 },
 "nbformat": 4,
 "nbformat_minor": 2
}
