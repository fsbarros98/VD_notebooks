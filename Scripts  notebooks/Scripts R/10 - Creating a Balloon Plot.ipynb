{
 "cells": [
  {
   "cell_type": "code",
   "execution_count": null,
   "metadata": {},
   "outputs": [],
   "source": [
    "library(ggplot2)\n",
    "library(gcookbook)\n",
    "options(repr.plot.width=10, repr.plot.height=7, repr.plot.res = 200)"
   ]
  },
  {
   "cell_type": "code",
   "execution_count": null,
   "metadata": {},
   "outputs": [],
   "source": [
    "head(countries)"
   ]
  },
  {
   "cell_type": "code",
   "execution_count": null,
   "metadata": {},
   "outputs": [],
   "source": [
    "cdat <- subset(countries,\n",
    "               Year==2009 &\n",
    "               Name %in% c(\"Canada\", \"Ireland\", \"United Kingdom\", \"France\", \"United States\",\n",
    "                           \"Iceland\", \"Japan\", \"New Zeland\", \"Luxembourg\", \"Switzerland\"))"
   ]
  },
  {
   "cell_type": "code",
   "execution_count": null,
   "metadata": {},
   "outputs": [],
   "source": [
    "cdat[order(cdat$Name),]"
   ]
  },
  {
   "cell_type": "code",
   "execution_count": null,
   "metadata": {},
   "outputs": [],
   "source": [
    "# Note: if we map GDP to size of points, the value of GDP gets mapped to the radius - not what we want"
   ]
  },
  {
   "cell_type": "code",
   "execution_count": null,
   "metadata": {},
   "outputs": [],
   "source": [
    "# GDP mapped to radius (small effect)\n",
    "p <- ggplot(cdat, aes(x=healthexp, y=infmortality, size=GDP)) +\n",
    "     geom_point(shape=21, color=\"black\", fill=\"cornsilk\")\n",
    "p"
   ]
  },
  {
   "cell_type": "code",
   "execution_count": null,
   "metadata": {},
   "outputs": [],
   "source": [
    "# GDP mapped to area (stronger effect)\n",
    "p + scale_size_area(max_size=15)"
   ]
  },
  {
   "cell_type": "code",
   "execution_count": null,
   "metadata": {},
   "outputs": [],
   "source": [
    "# Check the Hair Eye Color dataset\n",
    "head(HairEyeColor)"
   ]
  },
  {
   "cell_type": "code",
   "execution_count": null,
   "metadata": {},
   "outputs": [],
   "source": [
    "# create a new dataset\n",
    "hec <- HairEyeColor[,,\"Male\"] + HairEyeColor[,,\"Female\"]\n",
    "hec"
   ]
  },
  {
   "cell_type": "code",
   "execution_count": null,
   "metadata": {},
   "outputs": [],
   "source": [
    "# We need to reshape the wide format into a stacked one\n",
    "library(reshape2)"
   ]
  },
  {
   "cell_type": "code",
   "execution_count": null,
   "metadata": {},
   "outputs": [],
   "source": [
    "# now, let's melt the dataset\n",
    "hec <- melt(hec, value.name=\"count\")"
   ]
  },
  {
   "cell_type": "code",
   "execution_count": null,
   "metadata": {},
   "outputs": [],
   "source": [
    "hec"
   ]
  },
  {
   "cell_type": "code",
   "execution_count": null,
   "metadata": {},
   "outputs": [],
   "source": [
    "ggplot(hec, aes(x=Eye, y=Hair)) +\n",
    "    geom_point(aes(size=count), shape=21, color=\"black\", fill=\"cornsilk\") +\n",
    "    scale_size_area(max_size=20, guide=FALSE) +\n",
    "    # using a trick to insert the labels in position\n",
    "    geom_text(aes(y=as.numeric(Hair)-sqrt(count)/22, label=count), vjust=1, color=\"grey60\", size=4)"
   ]
  },
  {
   "cell_type": "code",
   "execution_count": null,
   "metadata": {},
   "outputs": [],
   "source": []
  }
 ],
 "metadata": {
  "kernelspec": {
   "display_name": "R",
   "language": "R",
   "name": "ir"
  },
  "language_info": {
   "codemirror_mode": "r",
   "file_extension": ".r",
   "mimetype": "text/x-r-source",
   "name": "R",
   "pygments_lexer": "r",
   "version": "4.0.2"
  }
 },
 "nbformat": 4,
 "nbformat_minor": 2
}
