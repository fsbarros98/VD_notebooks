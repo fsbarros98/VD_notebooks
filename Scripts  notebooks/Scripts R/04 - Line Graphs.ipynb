{
 "cells": [
  {
   "cell_type": "markdown",
   "metadata": {},
   "source": [
    "## Line Graphs"
   ]
  },
  {
   "cell_type": "markdown",
   "metadata": {},
   "source": [
    "### Basic line graphs"
   ]
  },
  {
   "cell_type": "code",
   "execution_count": null,
   "metadata": {},
   "outputs": [],
   "source": [
    "library(ggplot2)\n",
    "library(gcookbook)\n",
    "options(repr.plot.width=10, repr.plot.height=7, repr.plot.res = 200)"
   ]
  },
  {
   "cell_type": "code",
   "execution_count": null,
   "metadata": {},
   "outputs": [],
   "source": [
    "# a very simple dataset\n",
    "BOD"
   ]
  },
  {
   "cell_type": "code",
   "execution_count": null,
   "metadata": {},
   "outputs": [],
   "source": [
    "ggplot(BOD, aes(x=Time, y=demand)) + geom_line() + geom_point()"
   ]
  },
  {
   "cell_type": "code",
   "execution_count": null,
   "metadata": {},
   "outputs": [],
   "source": [
    "BOD1 <- BOD\n",
    "BOD1$Time <- factor(BOD$Time)\n",
    "str(BOD1)"
   ]
  },
  {
   "cell_type": "code",
   "execution_count": null,
   "metadata": {},
   "outputs": [],
   "source": [
    "ggplot(BOD1, aes(x=Time, y=demand)) + geom_line() + geom_point()"
   ]
  },
  {
   "cell_type": "code",
   "execution_count": null,
   "metadata": {},
   "outputs": [],
   "source": [
    "# Use aes(group=1) to ensure ggplot() knows the data points belong together (same group) and\n",
    "# should connected by a line\n",
    "ggplot(BOD1, aes(x=Time, y=demand, group=2)) +\n",
    "    geom_line() + geom_point()"
   ]
  },
  {
   "cell_type": "code",
   "execution_count": null,
   "metadata": {},
   "outputs": [],
   "source": [
    "# Use ylim() to begin Y axis from 0\n",
    "ggplot(BOD1, aes(x=Time, y=demand, group=1)) +\n",
    "    geom_line() + geom_point() + ylim(0, max(BOD$demand))"
   ]
  },
  {
   "cell_type": "code",
   "execution_count": null,
   "metadata": {},
   "outputs": [],
   "source": [
    "# Use the worldpop dataset\n",
    "worldpop"
   ]
  },
  {
   "cell_type": "code",
   "execution_count": null,
   "metadata": {},
   "outputs": [],
   "source": [
    "ggplot(worldpop, aes(x=Year, y=Population)) +\n",
    "    geom_line() + geom_point()"
   ]
  },
  {
   "cell_type": "code",
   "execution_count": null,
   "metadata": {},
   "outputs": [],
   "source": [
    "# Use log scale in the Y axis\n",
    "ggplot(worldpop, aes(x=Year, y=Population)) +\n",
    "    geom_line() + geom_point() + scale_y_log10()"
   ]
  },
  {
   "cell_type": "markdown",
   "metadata": {},
   "source": [
    "### Creating a graph with several lines"
   ]
  },
  {
   "cell_type": "code",
   "execution_count": null,
   "metadata": {},
   "outputs": [],
   "source": [
    "# Create the environment\n",
    "install.packages(\"dplyr\")"
   ]
  },
  {
   "cell_type": "code",
   "execution_count": null,
   "metadata": {},
   "outputs": [],
   "source": [
    "library(plyr) #so we can use ddply() to create the example dataset\n",
    "library(magrittr)"
   ]
  },
  {
   "cell_type": "code",
   "execution_count": null,
   "metadata": {},
   "outputs": [],
   "source": [
    "str(ToothGrowth)"
   ]
  },
  {
   "cell_type": "code",
   "execution_count": null,
   "metadata": {},
   "outputs": [],
   "source": [
    "ToothGrowth"
   ]
  },
  {
   "cell_type": "code",
   "execution_count": null,
   "metadata": {},
   "outputs": [],
   "source": [
    "tg <- ddply(ToothGrowth, c(\"supp\", \"dose\"), summarise, length=mean(len)) # 'length' is a new column\n",
    "# We are combining *all* supp with *all* dose, and in each case using the mean of the length"
   ]
  },
  {
   "cell_type": "code",
   "execution_count": null,
   "metadata": {},
   "outputs": [],
   "source": [
    "tg"
   ]
  },
  {
   "cell_type": "code",
   "execution_count": null,
   "metadata": {},
   "outputs": [],
   "source": [
    "ggplot(tg, aes(x=dose, y=length, color=supp)) + geom_line()"
   ]
  },
  {
   "cell_type": "code",
   "execution_count": null,
   "metadata": {},
   "outputs": [],
   "source": [
    "# Instead of different colors we can use different line types\n",
    "ggplot(tg, aes(x=dose, y=length, linetype=supp)) + geom_line()"
   ]
  },
  {
   "cell_type": "code",
   "execution_count": null,
   "metadata": {},
   "outputs": [],
   "source": [
    "# we may also want to convert the \"dose\" to a categorical variable as it only gets the values 0.5 / 1.0 / 2.0\n",
    "ggplot(tg, aes(x=factor(dose), y=length, color=supp, group=supp)) +\n",
    "    geom_line()\n",
    "# notice the group=supp to give information on how to group the data"
   ]
  },
  {
   "cell_type": "code",
   "execution_count": null,
   "metadata": {},
   "outputs": [],
   "source": [
    "# an incorrect grouping:\n",
    "ggplot(tg, aes(x=dose, y=length)) + geom_line()"
   ]
  },
  {
   "cell_type": "code",
   "execution_count": null,
   "metadata": {},
   "outputs": [],
   "source": [
    "# this problem arised because there are multiple points at each y location\n",
    "#\n",
    "# Note: If any discrete variables are mapped to aesthetics like color or linetype, they are automatically\n",
    "# used as grouping variables (which is good!)\n",
    "#\n",
    "# Otherwise, when using other variables for grouping, group= should be used."
   ]
  },
  {
   "cell_type": "code",
   "execution_count": null,
   "metadata": {},
   "outputs": [],
   "source": [
    "ggplot(tg, aes(x=dose, y=length, shape=supp)) + geom_line() + geom_point(size=4)\n",
    "# So, we have here an automatic grouping based on supp"
   ]
  },
  {
   "cell_type": "code",
   "execution_count": null,
   "metadata": {},
   "outputs": [],
   "source": [
    "# using a unique shape and fill it according to variable values (must be a categorical variable)\n",
    "ggplot(tg, aes(x=dose, y=length, fill=supp)) +\n",
    "    geom_line() + geom_point(size=5, shape=21)\n",
    "    "
   ]
  },
  {
   "cell_type": "code",
   "execution_count": null,
   "metadata": {},
   "outputs": [],
   "source": [
    "# trying to avoid the overlapping of points and lines (higher values means more distant)\n",
    "ggplot(tg, aes(x=dose, y=length, shape=supp)) +\n",
    "    geom_line(position=position_dodge(0.2)) +\n",
    "    geom_point(size=4, position=position_dodge(0.2))"
   ]
  },
  {
   "cell_type": "markdown",
   "metadata": {},
   "source": [
    "### Changing the appearance of lines"
   ]
  },
  {
   "cell_type": "code",
   "execution_count": null,
   "metadata": {},
   "outputs": [],
   "source": [
    "# the line type can be set to solid,dashed,dotted, etc\n",
    "# the thickness (in mm) can be changed using size\n",
    "# the color with colour="
   ]
  },
  {
   "cell_type": "code",
   "execution_count": null,
   "metadata": {},
   "outputs": [],
   "source": [
    "ggplot(BOD, aes(x=Time, y=demand)) +\n",
    "    geom_line(linetype=\"dashed\", size=2, color=\"blue\")"
   ]
  },
  {
   "cell_type": "code",
   "execution_count": null,
   "metadata": {},
   "outputs": [],
   "source": [
    "library(plyr)\n",
    "tg <- ddply(ToothGrowth, c(\"supp\", \"dose\"), summarise, length=mean(len))\n",
    "ggplot(tg, aes(x=dose, y=length, group=supp)) +\n",
    "    geom_line(color=\"darkgreen\", size=1.5)"
   ]
  },
  {
   "cell_type": "code",
   "execution_count": null,
   "metadata": {},
   "outputs": [],
   "source": [
    "# Using the Color Brewer\n",
    "ggplot(tg, aes(x=dose, y=length, color=supp)) +\n",
    "    geom_line(size=2) +\n",
    "    scale_colour_brewer(palette=\"Set2\")"
   ]
  },
  {
   "cell_type": "code",
   "execution_count": null,
   "metadata": {},
   "outputs": [],
   "source": [
    "ggplot(tg, aes(x=dose, y=length, color=supp)) +\n",
    "    geom_line(linetype=\"dashed\", size=2) +\n",
    "    geom_point(shape=22, size=3, fill=\"white\")"
   ]
  },
  {
   "cell_type": "code",
   "execution_count": null,
   "metadata": {},
   "outputs": [],
   "source": [
    "# Changing point appearance\n",
    "ggplot(BOD, aes(x=Time, y=demand)) +\n",
    "    geom_line() +\n",
    "    geom_point(size=4, shape=22, color=\"darkred\", fill=\"pink\")"
   ]
  },
  {
   "cell_type": "code",
   "execution_count": null,
   "metadata": {},
   "outputs": [],
   "source": [
    "# the default shape for points is a solid circle (shape 21), the size is 2 and the color is black.\n",
    "# The fill color is only relevant for some shapes."
   ]
  },
  {
   "cell_type": "code",
   "execution_count": null,
   "metadata": {},
   "outputs": [],
   "source": [
    "# IMPORTANT: points should be drawn after lines, so they stay on the top layer"
   ]
  },
  {
   "cell_type": "markdown",
   "metadata": {},
   "source": [
    "### Making a graph with a shaded area"
   ]
  },
  {
   "cell_type": "code",
   "execution_count": null,
   "metadata": {},
   "outputs": [],
   "source": [
    "# sunspot.year is a dataset\n",
    "sunspot.year"
   ]
  },
  {
   "cell_type": "code",
   "execution_count": null,
   "metadata": {},
   "outputs": [],
   "source": [
    "sunspotyear <- data.frame(\n",
    "    year = as.numeric(time(sunspot.year)) ,\n",
    "    sunspots = as.numeric(sunspot.year)\n",
    ")\n",
    "sunspotyear"
   ]
  },
  {
   "cell_type": "code",
   "execution_count": null,
   "metadata": {},
   "outputs": [],
   "source": [
    "ggplot(sunspotyear, aes(x=year, y=sunspots)) + geom_area()"
   ]
  },
  {
   "cell_type": "code",
   "execution_count": null,
   "metadata": {},
   "outputs": [],
   "source": [
    "# alpha is the transparency of the filled region\n",
    "ggplot(sunspotyear, aes(x=year, y=sunspots)) +\n",
    "    geom_area(color=\"black\", fill=\"blue\", alpha=0.1)\n",
    "#    geom_area(color=\"black\", fill=\"blue\", alpha=0.1)"
   ]
  },
  {
   "cell_type": "code",
   "execution_count": null,
   "metadata": {},
   "outputs": [],
   "source": [
    "ggplot(sunspotyear, aes(x=year, y=sunspots)) +\n",
    "    geom_area(fill=\"green\", alpha=0.2) + geom_line()"
   ]
  },
  {
   "cell_type": "markdown",
   "metadata": {},
   "source": [
    "### Making a stacked area graph"
   ]
  },
  {
   "cell_type": "code",
   "execution_count": null,
   "metadata": {},
   "outputs": [],
   "source": [
    "library(gcookbook)\n",
    "library(scales)"
   ]
  },
  {
   "cell_type": "code",
   "execution_count": null,
   "metadata": {},
   "outputs": [],
   "source": [
    "# Use the dataset USPopAge\n",
    "head(uspopage,15)"
   ]
  },
  {
   "cell_type": "code",
   "execution_count": null,
   "metadata": {},
   "outputs": [],
   "source": [
    "ggplot(uspopage, aes(x=Year, y= Thousands, fill=AgeGroup)) +\n",
    "    geom_area() + scale_y_continuous(labels = comma)"
   ]
  },
  {
   "cell_type": "code",
   "execution_count": null,
   "metadata": {},
   "outputs": [],
   "source": [
    "# reversing the legend order (using rev() on levels(), change palette to a range of blues,\n",
    "# add thin lines between areas and use some transparency\n",
    "ggplot(uspopage, aes(x=Year, y= Thousands, fill=AgeGroup)) +\n",
    "    geom_area(color=\"black\", size=0.2, alpha=0.4) +\n",
    "    scale_fill_brewer(palette=\"Blues\", breaks=rev(levels(uspopage$AgeGroup))) +\n",
    "    scale_y_continuous(labels = comma)"
   ]
  },
  {
   "cell_type": "markdown",
   "metadata": {},
   "source": [
    "### Using the color brewer"
   ]
  },
  {
   "cell_type": "code",
   "execution_count": null,
   "metadata": {},
   "outputs": [],
   "source": [
    "library(RColorBrewer)\n",
    "display.brewer.all()"
   ]
  },
  {
   "cell_type": "code",
   "execution_count": null,
   "metadata": {},
   "outputs": [],
   "source": [
    "display.brewer.all(colorblindFriendly=TRUE)"
   ]
  },
  {
   "cell_type": "code",
   "execution_count": null,
   "metadata": {},
   "outputs": [],
   "source": [
    "display.brewer.pal(n=8, name=\"Dark2\")\n",
    "brewer.pal(n=8, name=\"Dark2\")"
   ]
  },
  {
   "cell_type": "markdown",
   "metadata": {},
   "source": [
    "### Creating a proportional stacked area graph"
   ]
  },
  {
   "cell_type": "code",
   "execution_count": null,
   "metadata": {},
   "outputs": [],
   "source": [
    "library(gcookbook)\n",
    "library(plyr)\n",
    "\n",
    "# first, create a modified dataset to include the proportional field\n",
    "uspopage_prop <- ddply(uspopage, \"Year\", transform, Percent = Thousands / sum(Thousands) * 100)"
   ]
  },
  {
   "cell_type": "code",
   "execution_count": null,
   "metadata": {},
   "outputs": [],
   "source": [
    "uspopage_prop\n",
    "str(uspopage_prop)"
   ]
  },
  {
   "cell_type": "code",
   "execution_count": null,
   "metadata": {},
   "outputs": [],
   "source": [
    "ggplot(uspopage_prop, aes(x=Year, y=Percent, fill=AgeGroup)) +\n",
    "    geom_area(color=\"black\", size=.2, alpha=.4) +\n",
    "    scale_fill_brewer(palette=\"Blues\")"
   ]
  },
  {
   "cell_type": "markdown",
   "metadata": {},
   "source": [
    "### Adding a confidence region"
   ]
  },
  {
   "cell_type": "code",
   "execution_count": null,
   "metadata": {},
   "outputs": [],
   "source": [
    "# Climate dataset\n",
    "climate"
   ]
  },
  {
   "cell_type": "code",
   "execution_count": null,
   "metadata": {},
   "outputs": [],
   "source": [
    "# get a subset of the climate data\n",
    "clim <- subset(climate, Source==\"Berkeley\", select=c(\"Year\", \"Anomaly10y\", \"Unc10y\"))\n",
    "#\n",
    "# Note: Anomaly10y is a 10-year running average of the deviation from the average 1950-1980 temperature\n",
    "#       Unc10y is the 95% confidence interval"
   ]
  },
  {
   "cell_type": "code",
   "execution_count": null,
   "metadata": {},
   "outputs": [],
   "source": [
    "head(clim)"
   ]
  },
  {
   "cell_type": "code",
   "execution_count": null,
   "metadata": {},
   "outputs": [],
   "source": [
    "# Create the confidence region\n",
    "# We must use the geom_ribbon() and map values to ymin and ymax\n",
    "ggplot(clim, aes(x=Year, y=Anomaly10y)) +\n",
    "    geom_ribbon(aes(ymin=Anomaly10y - Unc10y, ymax = Anomaly10y + Unc10y), alpha=0.2) +\n",
    "   geom_line()"
   ]
  },
  {
   "cell_type": "code",
   "execution_count": null,
   "metadata": {},
   "outputs": [],
   "source": [
    "# Homework: represent the above graph using 3 lines, 2 for the confidence region and 1 for the series"
   ]
  }
 ],
 "metadata": {
  "kernelspec": {
   "display_name": "R",
   "language": "R",
   "name": "ir"
  },
  "language_info": {
   "codemirror_mode": "r",
   "file_extension": ".r",
   "mimetype": "text/x-r-source",
   "name": "R",
   "pygments_lexer": "r",
   "version": "4.0.2"
  }
 },
 "nbformat": 4,
 "nbformat_minor": 2
}
