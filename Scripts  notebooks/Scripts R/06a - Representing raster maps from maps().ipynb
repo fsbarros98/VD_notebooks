{
 "cells": [
  {
   "cell_type": "markdown",
   "metadata": {},
   "source": [
    "## Representing Raster Maps using the maps package"
   ]
  },
  {
   "cell_type": "code",
   "execution_count": null,
   "metadata": {},
   "outputs": [],
   "source": [
    "# We will use maps from the maps package\n",
    "install.packages(\"maps\")\n",
    "install.packages(\"mapproj\")"
   ]
  },
  {
   "cell_type": "code",
   "execution_count": null,
   "metadata": {},
   "outputs": [],
   "source": [
    "library(ggplot2)\n",
    "options(repr.plot.width=10, repr.plot.height=7, repr.plot.res = 200)\n",
    "library(maps)\n",
    "library(mapproj)"
   ]
  },
  {
   "cell_type": "code",
   "execution_count": null,
   "metadata": {},
   "outputs": [],
   "source": [
    "states_map <- map_data(\"state\")"
   ]
  },
  {
   "cell_type": "code",
   "execution_count": null,
   "metadata": {},
   "outputs": [],
   "source": [
    "states_map"
   ]
  },
  {
   "cell_type": "code",
   "execution_count": null,
   "metadata": {},
   "outputs": [],
   "source": [
    "# Plot the map\n",
    "ggplot(states_map, aes(x=long, y=lat, group=group)) +\n",
    "    geom_polygon(fill=\"white\", color=\"black\")"
   ]
  },
  {
   "cell_type": "code",
   "execution_count": null,
   "metadata": {},
   "outputs": [],
   "source": [
    "# Plot he map, by using the Mercator projection\n",
    "ggplot(states_map, aes(x=long, y=lat, group=group)) +\n",
    "    #geom_polygon() +\n",
    "    geom_path() +\n",
    "    coord_map(\"mercator\")"
   ]
  },
  {
   "cell_type": "code",
   "execution_count": null,
   "metadata": {},
   "outputs": [],
   "source": [
    "# accessing the point-boundaries of Portugal\n",
    "pt <- map_data(\"world\",\"portugal\")\n",
    "pt"
   ]
  },
  {
   "cell_type": "code",
   "execution_count": null,
   "metadata": {},
   "outputs": [],
   "source": [
    "# Instead of using the pt variable, draw the map directly from the data\n",
    "map(\"world\",\"portugal\")"
   ]
  },
  {
   "cell_type": "code",
   "execution_count": null,
   "metadata": {},
   "outputs": [],
   "source": [
    "map(\"state\", regions=c(\"new mexico\", \"california\", \"texas\", \"colorado\"))"
   ]
  },
  {
   "cell_type": "code",
   "execution_count": null,
   "metadata": {},
   "outputs": [],
   "source": [
    "# insert a frame, lines, and the scale\n",
    "map(\"world\",regions=\"portugal\")\n",
    "map.axes(cex.axis=0.9)\n",
    "abline(h=41, lty=2) # line type (lty) as dashed line\n",
    "abline(v=-8.6, lty=2)\n",
    "map.scale()"
   ]
  },
  {
   "cell_type": "code",
   "execution_count": null,
   "metadata": {},
   "outputs": [],
   "source": [
    "map(\"world\",regions=\"portugal\", fill=T, col=\"green\")\n",
    "map(,,add=T)\n",
    "map.axes(cex.axis=0.6)\n",
    "abline(h=41, lty=2)\n",
    "abline(v=-8.6, lty=2)\n",
    "map.scale(ratio=F, cex=0.5, x=-7.2, y=37.6)\n"
   ]
  },
  {
   "cell_type": "code",
   "execution_count": null,
   "metadata": {},
   "outputs": [],
   "source": [
    "# Representing the map using ggplot2\n",
    "ggplot() + borders(\"world\", regions=\"portugal\")"
   ]
  },
  {
   "cell_type": "code",
   "execution_count": null,
   "metadata": {},
   "outputs": [],
   "source": [
    "# adjusting the representation to the coordinates\n",
    "ggplot() +\n",
    "    borders(\"world\", regions=c(\"portugal\",\"France\")) +\n",
    "    coord_equal()"
   ]
  },
  {
   "cell_type": "code",
   "execution_count": null,
   "metadata": {},
   "outputs": [],
   "source": []
  }
 ],
 "metadata": {
  "kernelspec": {
   "display_name": "R",
   "language": "R",
   "name": "ir"
  },
  "language_info": {
   "codemirror_mode": "r",
   "file_extension": ".r",
   "mimetype": "text/x-r-source",
   "name": "R",
   "pygments_lexer": "r",
   "version": "4.0.2"
  }
 },
 "nbformat": 4,
 "nbformat_minor": 2
}
