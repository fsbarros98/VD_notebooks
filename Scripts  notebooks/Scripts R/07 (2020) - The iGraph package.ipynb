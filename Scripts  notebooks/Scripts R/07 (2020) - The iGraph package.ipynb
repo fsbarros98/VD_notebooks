{
 "cells": [
  {
   "cell_type": "code",
   "execution_count": null,
   "metadata": {},
   "outputs": [],
   "source": [
    "install.packages(\"igraph\")"
   ]
  },
  {
   "cell_type": "code",
   "execution_count": null,
   "metadata": {},
   "outputs": [],
   "source": [
    "library(igraph)"
   ]
  },
  {
   "cell_type": "code",
   "execution_count": null,
   "metadata": {},
   "outputs": [],
   "source": [
    "# let's increase the size of the plot\n",
    "options(repr.plot.width=7, repr.plot.height=5, repr.plot.res = 200)"
   ]
  },
  {
   "cell_type": "code",
   "execution_count": null,
   "metadata": {},
   "outputs": [],
   "source": [
    "g1 <- graph( edges=c(1,2 , 2,3 , 3,1), n=3, directed=F ) "
   ]
  },
  {
   "cell_type": "code",
   "execution_count": null,
   "metadata": {},
   "outputs": [],
   "source": [
    "plot(g1)"
   ]
  },
  {
   "cell_type": "code",
   "execution_count": null,
   "metadata": {},
   "outputs": [],
   "source": [
    "g2 <- graph( edges=c(1,2, 2,3, 3, 1), n=10 )\n",
    "plot(g2)"
   ]
  },
  {
   "cell_type": "code",
   "execution_count": null,
   "metadata": {},
   "outputs": [],
   "source": [
    "# When the edge list has vertex names, the number of nodes is not needed\n",
    "g3 <- graph( c(\"John\", \"Jim\", \"Jim\", \"Jill\", \"Jill\", \"John\")) # named vertices\n",
    "plot(g3)"
   ]
  },
  {
   "cell_type": "code",
   "execution_count": null,
   "metadata": {},
   "outputs": [],
   "source": [
    "g4 <- graph( c(\"John\", \"Jim\", \"Jim\", \"Jack\", \"Jim\", \"Jack\", \"John\", \"John\"), \n",
    "             isolates=c(\"Jesse\", \"Janis\", \"Jennifer\", \"Justin\") )  \n",
    "\n",
    "# In named graphs we can specify isolates by providing a list of their names.\n",
    "\n",
    "plot(g4, edge.arrow.size=1, vertex.color=\"green\", vertex.size=20, \n",
    "     vertex.frame.color=\"black\", vertex.label.color=\"blue\", \n",
    "     vertex.label.cex=0.9, vertex.label.dist=3, edge.curved=0.2) "
   ]
  },
  {
   "cell_type": "code",
   "execution_count": null,
   "metadata": {},
   "outputs": [],
   "source": [
    "plot(graph_from_literal(a---b, b---c)) # the number of dashes doesn't matter"
   ]
  },
  {
   "cell_type": "code",
   "execution_count": null,
   "metadata": {},
   "outputs": [],
   "source": [
    "# Now, using arrows (directed graph)\n",
    "plot(graph_from_literal(a--+b, b+--c))"
   ]
  },
  {
   "cell_type": "code",
   "execution_count": null,
   "metadata": {},
   "outputs": [],
   "source": [
    "# Access informtion from the edges and vertices\n",
    "E(g4)\n",
    "V(g4)"
   ]
  },
  {
   "cell_type": "code",
   "execution_count": null,
   "metadata": {},
   "outputs": [],
   "source": [
    "# Examine the network\n",
    "g4[]"
   ]
  },
  {
   "cell_type": "code",
   "execution_count": null,
   "metadata": {},
   "outputs": [],
   "source": [
    "#\n",
    "g4[1,]"
   ]
  },
  {
   "cell_type": "code",
   "execution_count": null,
   "metadata": {},
   "outputs": [],
   "source": [
    "V(g4)$name # automatically generated when we created the network."
   ]
  },
  {
   "cell_type": "code",
   "execution_count": null,
   "metadata": {},
   "outputs": [],
   "source": [
    "V(g4)$gender <- c(\"male\", \"male\", \"male\", \"male\", \"female\", \"female\", \"male\")"
   ]
  },
  {
   "cell_type": "code",
   "execution_count": null,
   "metadata": {},
   "outputs": [],
   "source": [
    "E(g4)$type <- \"Tweeter\" # Assign \"Tweeter\" to all edges\n",
    "E(g4)$weight <- 10      # Edge weight, setting all existing edges to 10"
   ]
  },
  {
   "cell_type": "code",
   "execution_count": null,
   "metadata": {},
   "outputs": [],
   "source": [
    "# Examine the attributes\n",
    "edge_attr(g4)"
   ]
  },
  {
   "cell_type": "code",
   "execution_count": null,
   "metadata": {},
   "outputs": [],
   "source": [
    "vertex_attr(g4)"
   ]
  },
  {
   "cell_type": "code",
   "execution_count": null,
   "metadata": {},
   "outputs": [],
   "source": [
    "plot(g4, edge.arrow.size=.5, vertex.label.color=\"black\", vertex.label.dist=2,\n",
    "     vertex.color=c( \"pink\", \"skyblue\")[1+(V(g4)$gender==\"male\")] )"
   ]
  },
  {
   "cell_type": "markdown",
   "metadata": {},
   "source": [
    "### Simplify the graph"
   ]
  },
  {
   "cell_type": "code",
   "execution_count": null,
   "metadata": {},
   "outputs": [],
   "source": [
    "# There are two edges going from Jim to Jack, and a loop from John to himself.\n",
    "# We can simplify our graph to remove loops & multiple edges between the same nodes.\n",
    "\n",
    "g4s <- simplify( g4, remove.multiple = T, remove.loops = F, \n",
    "                 edge.attr.comb=c(weight=\"sum\", type=\"ignore\") )  # indicate how edge attributes are to be combined\n",
    "plot(g4s, vertex.label.dist=2.5)"
   ]
  },
  {
   "cell_type": "code",
   "execution_count": null,
   "metadata": {},
   "outputs": [],
   "source": [
    "g4s"
   ]
  },
  {
   "cell_type": "code",
   "execution_count": null,
   "metadata": {},
   "outputs": [],
   "source": [
    "# The description of an igraph object starts with up to four letters:\n",
    "\n",
    "# D or U, for a directed or undirected graph\n",
    "# N for a named graph (where nodes have a name attribute)\n",
    "# W for a weighted graph (where edges have a weight attribute)\n",
    "# B for a bipartite (two-mode) graph (where nodes have a type attribute)\n",
    "# The two numbers that follow (7 3) refer to the number of nodes and edges in the graph.\n",
    "\n",
    "# The description also lists node & edge attributes, for example:\n",
    "# (g/c) - graph-level character attribute\n",
    "# (v/c) - vertex-level character attribute\n",
    "# (e/n) - edge-level numeric attribute\n"
   ]
  },
  {
   "cell_type": "code",
   "execution_count": null,
   "metadata": {},
   "outputs": [],
   "source": [
    "# Empty graph\n",
    "eg <- make_empty_graph(40)\n",
    "plot(eg, vertex.size=10, vertex.label=NA)"
   ]
  },
  {
   "cell_type": "code",
   "execution_count": null,
   "metadata": {},
   "outputs": [],
   "source": [
    "fg <- make_full_graph(40)\n",
    "plot(fg, vertex.size=10, vertex.label=NA)"
   ]
  },
  {
   "cell_type": "code",
   "execution_count": null,
   "metadata": {},
   "outputs": [],
   "source": [
    "st <- make_star(40)\n",
    "plot(st, vertex.size=10, vertex.label=NA) "
   ]
  },
  {
   "cell_type": "code",
   "execution_count": null,
   "metadata": {},
   "outputs": [],
   "source": [
    "# Create a Tree graph\n",
    "tr <- make_tree(40, children = 3, mode = \"undirected\")\n",
    "plot(tr, vertex.size=10, vertex.label=NA) "
   ]
  },
  {
   "cell_type": "code",
   "execution_count": null,
   "metadata": {},
   "outputs": [],
   "source": [
    "# The Erdos-Renyi random graph model\n",
    "# 'n' is number of nodes, 'm' is the number of edges.\n",
    "\n",
    "er <- sample_gnm(n=100, m=40) \n",
    "plot(er, vertex.size=6, vertex.label=NA)  "
   ]
  },
  {
   "cell_type": "code",
   "execution_count": null,
   "metadata": {},
   "outputs": [],
   "source": [
    "# Barabasi-Albert preferential attachment model for scale-free graphs\n",
    "# n is number of nodes, power is the power of attachment (1 is linear)\n",
    "# m is the number of edges added on each time step)\n",
    "\n",
    "ba <-  sample_pa(n=100, power=1, m=1,  directed=F)\n",
    "plot(ba, vertex.size=6, vertex.label=NA)"
   ]
  },
  {
   "cell_type": "markdown",
   "metadata": {},
   "source": [
    "### Using the News Media dataset"
   ]
  },
  {
   "cell_type": "code",
   "execution_count": null,
   "metadata": {},
   "outputs": [],
   "source": [
    "nodes <- read.csv(\"../Datasets/Netscix/Dataset1-Media-Example-NODES.csv\", header=T, as.is=T)"
   ]
  },
  {
   "cell_type": "code",
   "execution_count": null,
   "metadata": {},
   "outputs": [],
   "source": [
    "links <- read.csv(\"../Datasets/Netscix/Dataset1-Media-Example-EDGES.csv\", header=T, as.is=T)"
   ]
  },
  {
   "cell_type": "code",
   "execution_count": null,
   "metadata": {},
   "outputs": [],
   "source": [
    "# Let's examine the data\n",
    "head(nodes)\n",
    "head(links)\n",
    "nrow(nodes); length(unique(nodes$id)); nrow(links); nrow(unique(links[,c(\"from\", \"to\")]))"
   ]
  },
  {
   "cell_type": "code",
   "execution_count": null,
   "metadata": {},
   "outputs": [],
   "source": [
    "# Notice that there are more links than unique from-to combinations.\n",
    "# That means we have cases in the data where there are multiple links between the same two nodes.\n",
    "# We will collapse all links of the same type between the same two nodes by\n",
    "# summing their weights, using aggregate() by “from”, “to”, & “type”.\n",
    "# We don’t use simplify() here so as not to collapse different link types."
   ]
  },
  {
   "cell_type": "code",
   "execution_count": null,
   "metadata": {},
   "outputs": [],
   "source": [
    "links <- aggregate(links[,3], links[,-3], sum)\n",
    "head(links, 10)"
   ]
  },
  {
   "cell_type": "code",
   "execution_count": null,
   "metadata": {},
   "outputs": [],
   "source": [
    "links <- links[order(links$from, links$to),]\n",
    "head(links, 10)"
   ]
  },
  {
   "cell_type": "code",
   "execution_count": null,
   "metadata": {},
   "outputs": [],
   "source": [
    "colnames(links)[4] <- \"weight\"\n",
    "rownames(links) <- NULL\n",
    "head(links, 10)"
   ]
  },
  {
   "cell_type": "markdown",
   "metadata": {},
   "source": [
    "### Using bipartite graphs"
   ]
  },
  {
   "cell_type": "code",
   "execution_count": null,
   "metadata": {},
   "outputs": [],
   "source": [
    "nodes2 <- read.csv(\"../Datasets/Netscix/Dataset2-Media-User-Example-NODES.csv\", header=T, as.is=T)\n",
    "links2 <- read.csv(\"../Datasets/Netscix/Dataset2-Media-User-Example-EDGES.csv\", header=T, row.names=1)"
   ]
  },
  {
   "cell_type": "code",
   "execution_count": null,
   "metadata": {},
   "outputs": [],
   "source": [
    "head(nodes2,8)\n",
    "head(links2)"
   ]
  },
  {
   "cell_type": "code",
   "execution_count": null,
   "metadata": {},
   "outputs": [],
   "source": [
    "str(links2) # Matrix\n",
    "str(nodes2) # Dataframe\n",
    "links2 <- as.matrix(links2)\n",
    "dim(links2) # Dimensions\n",
    "dim(nodes2)"
   ]
  },
  {
   "cell_type": "code",
   "execution_count": null,
   "metadata": {},
   "outputs": [],
   "source": [
    "# Creating networks from raw date\n",
    "net <- graph_from_data_frame(d=links, vertices=nodes, directed=T)"
   ]
  },
  {
   "cell_type": "code",
   "execution_count": null,
   "metadata": {},
   "outputs": [],
   "source": [
    "net"
   ]
  },
  {
   "cell_type": "code",
   "execution_count": null,
   "metadata": {},
   "outputs": [],
   "source": [
    "E(net)       # The edges of the \"net\" object\n",
    "\n",
    "V(net)       # The vertices of the \"net\" object\n",
    "\n",
    "E(net)$type  # Edge attribute \"type\"\n",
    "\n",
    "V(net)$media # Vertex attribute \"media\""
   ]
  },
  {
   "cell_type": "code",
   "execution_count": null,
   "metadata": {},
   "outputs": [],
   "source": [
    "plot(net, edge.arrow.size=.4,vertex.label=NA)"
   ]
  },
  {
   "cell_type": "code",
   "execution_count": null,
   "metadata": {},
   "outputs": [],
   "source": [
    "# Set edge color to gray, and the node color to orange. \n",
    "# Replace the vertex label with the node names stored in \"media\"\n",
    "\n",
    "plot(net, edge.arrow.size=.2, edge.curved=0,\n",
    "     vertex.size=20, vertex.color=\"orange\", vertex.frame.color=\"#555555\",\n",
    "     vertex.label=V(net)$media, vertex.label.color=\"black\",\n",
    "     vertex.label.cex=1)"
   ]
  },
  {
   "cell_type": "code",
   "execution_count": null,
   "metadata": {},
   "outputs": [],
   "source": [
    "# Generate colors based on media type:\n",
    "colrs <- c(\"gray50\", \"tomato\", \"gold\")\n",
    "V(net)$color <- colrs[V(net)$media.type]\n",
    "\n",
    "# Set node size based on audience size:\n",
    "V(net)$size <- V(net)$audience.size*0.7\n",
    "\n",
    "# The labels are currently node IDs.\n",
    "# Setting them to NA will render no labels:\n",
    "V(net)$label.color <- \"black\"\n",
    "V(net)$label <- V(net)$media\n",
    "\n",
    "# Set edge width based on weight:\n",
    "E(net)$width <- E(net)$weight/6\n",
    "\n",
    "#change arrow size and edge color:\n",
    "E(net)$arrow.size <- .2\n",
    "E(net)$edge.color <- \"gray80\"\n",
    "\n",
    "E(net)$width <- 1+E(net)$weight/12"
   ]
  },
  {
   "cell_type": "code",
   "execution_count": null,
   "metadata": {},
   "outputs": [],
   "source": [
    "plot(net)"
   ]
  },
  {
   "cell_type": "code",
   "execution_count": null,
   "metadata": {},
   "outputs": [],
   "source": [
    "plot(net) \n",
    "legend(x=-1.5, y=-1.1, c(\"Newspaper\",\"Television\", \"Online News\"), pch=21,\n",
    "       col=\"#777777\", pt.bg=colrs, pt.cex=2, cex=.8, bty=\"n\", ncol=1)"
   ]
  },
  {
   "cell_type": "code",
   "execution_count": null,
   "metadata": {},
   "outputs": [],
   "source": []
  }
 ],
 "metadata": {
  "kernelspec": {
   "display_name": "R",
   "language": "R",
   "name": "ir"
  },
  "language_info": {
   "codemirror_mode": "r",
   "file_extension": ".r",
   "mimetype": "text/x-r-source",
   "name": "R",
   "pygments_lexer": "r",
   "version": "4.0.2"
  }
 },
 "nbformat": 4,
 "nbformat_minor": 4
}
