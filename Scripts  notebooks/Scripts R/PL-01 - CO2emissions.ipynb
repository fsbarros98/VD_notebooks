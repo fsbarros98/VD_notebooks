{
 "cells": [
  {
   "cell_type": "code",
   "execution_count": null,
   "metadata": {},
   "outputs": [],
   "source": [
    "library(readxl)\n",
    "library(ggplot2)"
   ]
  },
  {
   "cell_type": "code",
   "execution_count": null,
   "metadata": {},
   "outputs": [],
   "source": [
    "# ---- Check your own path ---- #\n",
    "s1 <- read_excel(\"D:/Users/arf/OneDrive/Documentos/Aulas/2021/VD/Datasets/CO2Emissions.xlsx\")\n",
    "#s1 <- read_excel(\"C:/Users/arf/OneDrive/Documentos/Aulas/2021/VD/Datasets/CO2Emissions.xlsx\")\n"
   ]
  },
  {
   "cell_type": "code",
   "execution_count": null,
   "metadata": {},
   "outputs": [],
   "source": [
    "# Use suppressWarnings() to avoid being cluttered with warning messages. However, errors are still reported\n",
    "# example:\n",
    "#suppressWarnings(s1 <- read_excel(\"C:/Users/arf/OneDrive/Documentos/Aulas/2021/VD/Datasets/CO2Emissions.xlsx\"))\n",
    "suppressWarnings(s1 <- read_excel(\"D:/Users/arf/OneDrive/Documentos/Aulas/2021/VD/Datasets/CO2Emissions.xlsx\"))"
   ]
  },
  {
   "cell_type": "code",
   "execution_count": null,
   "metadata": {},
   "outputs": [],
   "source": [
    "# An experience...\n",
    "ggplot(s1, aes(x=year, y=total_CO2, color=factor(country))) + geom_line()"
   ]
  },
  {
   "cell_type": "markdown",
   "metadata": {},
   "source": [
    "### Create subsets of a set"
   ]
  },
  {
   "cell_type": "code",
   "execution_count": null,
   "metadata": {},
   "outputs": [],
   "source": [
    "# Create a subset of s1\n",
    "s2 <- subset(s1, s1$country == \"Portugal\" | country == \"France (Including Monaco)\")"
   ]
  },
  {
   "cell_type": "code",
   "execution_count": null,
   "metadata": {},
   "outputs": [],
   "source": [
    "s2"
   ]
  },
  {
   "cell_type": "code",
   "execution_count": null,
   "metadata": {
    "scrolled": true
   },
   "outputs": [],
   "source": [
    "# Plot the subset\n",
    "ggplot(s2, aes(x=year, y=total_CO2, color=factor(country))) + geom_line()"
   ]
  },
  {
   "cell_type": "code",
   "execution_count": null,
   "metadata": {},
   "outputs": [],
   "source": [
    "# Creat a subset using a list\n",
    "s3 <- subset(s1, s1$country == c(\"Ussr\", \"Portugal\", \"United States of America\", \"United Kingdom\"))"
   ]
  },
  {
   "cell_type": "markdown",
   "metadata": {},
   "source": [
    "### Modify the size of the plot"
   ]
  },
  {
   "cell_type": "code",
   "execution_count": null,
   "metadata": {},
   "outputs": [],
   "source": [
    "# let's increase the size of the plot\n",
    "options(repr.plot.width=10, repr.plot.height=7, repr.plot.res = 200)"
   ]
  },
  {
   "cell_type": "code",
   "execution_count": null,
   "metadata": {
    "scrolled": false
   },
   "outputs": [],
   "source": [
    "ggplot(s3, aes(x=year, y=total_CO2, color=factor(country))) + geom_line()"
   ]
  },
  {
   "cell_type": "markdown",
   "metadata": {},
   "source": [
    "### Fine tune the labels"
   ]
  },
  {
   "cell_type": "code",
   "execution_count": null,
   "metadata": {},
   "outputs": [],
   "source": [
    "ggplot(s3, aes(x=year, y=total_CO2, color=factor(country))) +\n",
    "   geom_line() +\n",
    "   xlab(\"Available years\") + ylab(\"CO2 emisisons\")"
   ]
  },
  {
   "cell_type": "code",
   "execution_count": null,
   "metadata": {},
   "outputs": [],
   "source": [
    "ggplot(s3, aes(x=year, y=total_CO2, color=factor(country))) +\n",
    "   geom_line() +\n",
    "   labs(x=\"Available years\", y=\"CO2 tons\", title=\"World CO2 emissions\")"
   ]
  },
  {
   "cell_type": "code",
   "execution_count": null,
   "metadata": {},
   "outputs": [],
   "source": [
    "ggplot(s3, aes(x=year, y=total_CO2, color=factor(country))) +\n",
    "   geom_line() +\n",
    "   labs(x=\"Available years\", y=\"CO2 tons\", title=\"World CO2 emissions\") +\n",
    "   scale_y_continuous(breaks=c(100000, 200000, 300000, 400000, 500000, 600000, 700000, 800000, 1000000, 1500000))"
   ]
  },
  {
   "cell_type": "code",
   "execution_count": null,
   "metadata": {},
   "outputs": [],
   "source": [
    "x <- c(seq(100000,1800000,100000))\n",
    "x"
   ]
  },
  {
   "cell_type": "code",
   "execution_count": null,
   "metadata": {},
   "outputs": [],
   "source": [
    "ggplot(s3, aes(x=year, y=total_CO2, color=factor(country))) +\n",
    "   geom_line() +\n",
    "   labs(x=\"Available years\", y=\"CO2 tons\", title=\"World CO2 emissions\") +\n",
    "   scale_y_continuous(breaks=c(seq(100000,1800000,100000)))"
   ]
  },
  {
   "cell_type": "markdown",
   "metadata": {},
   "source": [
    "## A small experience with Plotly"
   ]
  },
  {
   "cell_type": "code",
   "execution_count": null,
   "metadata": {},
   "outputs": [],
   "source": [
    "library(plotly)"
   ]
  },
  {
   "cell_type": "code",
   "execution_count": null,
   "metadata": {},
   "outputs": [],
   "source": [
    "m<-highlight_key(mpg)\n",
    "p<-ggplot(m,aes(displ, hwy)) + geom_point()\n",
    "gg<-highlight(ggplotly(p), \"plotly_selected\")\n",
    "crosstalk::bscols(gg, DT::datatable(m))"
   ]
  },
  {
   "cell_type": "code",
   "execution_count": null,
   "metadata": {},
   "outputs": [],
   "source": [
    "m<-highlight_key(s3)\n",
    "p<-ggplot(s3,aes(x=year, y=total_CO2, color=factor(country))) + geom_line()\n",
    "gg<-highlight(ggplotly(p), \"plotly_selected\")\n",
    "crosstalk::bscols(gg, DT::datatable(m))"
   ]
  },
  {
   "cell_type": "code",
   "execution_count": null,
   "metadata": {},
   "outputs": [],
   "source": []
  }
 ],
 "metadata": {
  "kernelspec": {
   "display_name": "R",
   "language": "R",
   "name": "ir"
  },
  "language_info": {
   "codemirror_mode": "r",
   "file_extension": ".r",
   "mimetype": "text/x-r-source",
   "name": "R",
   "pygments_lexer": "r",
   "version": "4.0.2"
  }
 },
 "nbformat": 4,
 "nbformat_minor": 4
}
