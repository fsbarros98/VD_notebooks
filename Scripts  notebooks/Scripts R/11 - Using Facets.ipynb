{
 "cells": [
  {
   "cell_type": "code",
   "execution_count": null,
   "metadata": {},
   "outputs": [],
   "source": [
    "library(ggplot2)\n",
    "library(gcookbook)\n",
    "options(repr.plot.width=6, repr.plot.height=5, repr.plot.res = 200)"
   ]
  },
  {
   "cell_type": "code",
   "execution_count": null,
   "metadata": {},
   "outputs": [],
   "source": [
    "str(mpg$drv)"
   ]
  },
  {
   "cell_type": "code",
   "execution_count": null,
   "metadata": {},
   "outputs": [],
   "source": [
    "p <- ggplot(mpg, aes(x=displ, y=hwy)) + geom_point()\n",
    "p"
   ]
  },
  {
   "cell_type": "code",
   "execution_count": null,
   "metadata": {},
   "outputs": [],
   "source": [
    "# Now using a facet to create group around one feature\n",
    "p + facet_grid(drv ~ .)"
   ]
  },
  {
   "cell_type": "code",
   "execution_count": null,
   "metadata": {},
   "outputs": [],
   "source": [
    "p + facet_grid(. ~ cyl)"
   ]
  },
  {
   "cell_type": "code",
   "execution_count": null,
   "metadata": {},
   "outputs": [],
   "source": [
    "# Therefore, subpanels are arranged (vertically, horizontally)"
   ]
  },
  {
   "cell_type": "code",
   "execution_count": null,
   "metadata": {},
   "outputs": [],
   "source": [
    "# Split by drv (vertical) and cyl (horizontal)\n",
    "p + facet_grid(drv ~ cyl)"
   ]
  },
  {
   "cell_type": "code",
   "execution_count": null,
   "metadata": {},
   "outputs": [],
   "source": [
    "# With facet_wrap() the subplots are laid out horizontally and wrapped around\n",
    "p + facet_wrap(. ~ class)"
   ]
  },
  {
   "cell_type": "code",
   "execution_count": null,
   "metadata": {},
   "outputs": [],
   "source": [
    "# It is possible to design the grid for the facet_wrap\n",
    "#p + facet_wrap(~ class, nrow=2)\n",
    "p + facet_wrap(. ~ class, nrow=2, ncol=4)"
   ]
  },
  {
   "cell_type": "code",
   "execution_count": null,
   "metadata": {},
   "outputs": [],
   "source": [
    "# The default is a N x N grid to fit the data\n",
    "# If we had 7 classes then we would have a 3 x 3 grid as default"
   ]
  },
  {
   "cell_type": "markdown",
   "metadata": {},
   "source": [
    "### Using facets with different scales on axis"
   ]
  },
  {
   "cell_type": "code",
   "execution_count": null,
   "metadata": {},
   "outputs": [],
   "source": [
    "p + facet_grid(drv ~ cyl, scales=\"free_y\") # each row with its own scale\n",
    "p + facet_grid(drv ~ cyl, scales=\"free\")   # each row and column with its own scale"
   ]
  },
  {
   "cell_type": "markdown",
   "metadata": {},
   "source": [
    "### Multiple histograms from grouped data"
   ]
  },
  {
   "cell_type": "code",
   "execution_count": null,
   "metadata": {},
   "outputs": [],
   "source": [
    "library(MASS)"
   ]
  },
  {
   "cell_type": "code",
   "execution_count": null,
   "metadata": {},
   "outputs": [],
   "source": [
    "# Dataset birthwt: Risk Factors Associated with Low Infant Birth Weight\n",
    "head(birthwt)"
   ]
  },
  {
   "cell_type": "code",
   "execution_count": null,
   "metadata": {},
   "outputs": [],
   "source": [
    "ggplot(birthwt, aes(x=bwt)) +\n",
    "    geom_histogram(fill=\"white\", color=\"black\") +\n",
    "    facet_grid(smoke ~ .)"
   ]
  },
  {
   "cell_type": "code",
   "execution_count": null,
   "metadata": {},
   "outputs": [],
   "source": [
    "# We should use different labels for facet titles\n",
    "\n",
    "b1 <- birthwt                 # copy dataset\n",
    "b1$smoke <- factor(b1$smoke)  # make the variable a factor\n",
    "levels(b1$smoke)              # check how many levels somke has"
   ]
  },
  {
   "cell_type": "code",
   "execution_count": null,
   "metadata": {},
   "outputs": [],
   "source": [
    "library(plyr) # for the revalue() function\n",
    "b1$smoke <- revalue(b1$smoke, c(\"0\"=\"No Smoke\", \"1\"=\"Smoke\"))"
   ]
  },
  {
   "cell_type": "code",
   "execution_count": null,
   "metadata": {},
   "outputs": [],
   "source": [
    "# Now, replot\n",
    "ggplot(b1, aes(x=bwt)) +\n",
    "    geom_histogram(fill=\"white\", color=\"black\") +\n",
    "    facet_grid(smoke ~ ., scales=\"free\") # set y axis free"
   ]
  },
  {
   "cell_type": "code",
   "execution_count": null,
   "metadata": {},
   "outputs": [],
   "source": []
  }
 ],
 "metadata": {
  "kernelspec": {
   "display_name": "R",
   "language": "R",
   "name": "ir"
  },
  "language_info": {
   "codemirror_mode": "r",
   "file_extension": ".r",
   "mimetype": "text/x-r-source",
   "name": "R",
   "pygments_lexer": "r",
   "version": "4.0.2"
  }
 },
 "nbformat": 4,
 "nbformat_minor": 2
}
