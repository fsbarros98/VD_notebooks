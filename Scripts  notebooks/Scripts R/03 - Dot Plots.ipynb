{
 "cells": [
  {
   "cell_type": "markdown",
   "metadata": {},
   "source": [
    "## Creating Dot Plots"
   ]
  },
  {
   "cell_type": "code",
   "execution_count": null,
   "metadata": {},
   "outputs": [],
   "source": [
    "library(ggplot2)\n",
    "library(gcookbook)\n",
    "options(repr.plot.width=10, repr.plot.height=7, repr.plot.res = 200)"
   ]
  },
  {
   "cell_type": "markdown",
   "metadata": {},
   "source": [
    "#### We will use the tophitters2001 dataset (batting averages of the top hitters in Major League Baseball in 2001)"
   ]
  },
  {
   "cell_type": "code",
   "execution_count": null,
   "metadata": {},
   "outputs": [],
   "source": [
    "tophitters2001"
   ]
  },
  {
   "cell_type": "code",
   "execution_count": null,
   "metadata": {},
   "outputs": [],
   "source": [
    "# Take the first 25 from the tophitters dataset and just 3 columns\n",
    "tophit <- tophitters2001[1:25,c(\"name\",\"lg\", \"avg\")]"
   ]
  },
  {
   "cell_type": "code",
   "execution_count": null,
   "metadata": {},
   "outputs": [],
   "source": [
    "str(tophit)\n",
    "tophit"
   ]
  },
  {
   "cell_type": "code",
   "execution_count": null,
   "metadata": {},
   "outputs": [],
   "source": [
    "ggplot(tophit, aes(x=avg, y=name)) +\n",
    "    geom_point()"
   ]
  },
  {
   "cell_type": "markdown",
   "metadata": {},
   "source": [
    "### Improve visualization"
   ]
  },
  {
   "cell_type": "code",
   "execution_count": null,
   "metadata": {},
   "outputs": [],
   "source": [
    "ggplot(tophit, aes(x=avg, y=reorder(name, avg))) +\n",
    "    geom_point(size=5)\n",
    "# Note that reorder() takes the name variable and reorders observations according to avg"
   ]
  },
  {
   "cell_type": "code",
   "execution_count": null,
   "metadata": {},
   "outputs": [],
   "source": [
    "# In this example, we swap the axis and use theme properties\n",
    "# We are using element_black() to remove graph elements\n",
    "ggplot(tophit, aes(x=reorder(name, avg), y=avg)) +\n",
    "    geom_point(size=3) +  # theme_bw() +\n",
    "    theme(axis.text.x=element_text(angle=90, hjust=1),\n",
    "         panel.grid.major.y = element_blank(),\n",
    "         panel.grid.minor.y = element_blank(),\n",
    "         panel.grid.major.x = element_line(color=\"grey60\", linetype=\"dashed\"))"
   ]
  },
  {
   "cell_type": "code",
   "execution_count": null,
   "metadata": {},
   "outputs": [],
   "source": [
    "# To improve visualization\n",
    "ggplot(tophit, aes(x=avg, y=name)) +\n",
    "    geom_segment(aes(yend=name), xend=0, color=\"grey50\") + # segment ends at (0, name)\n",
    "    geom_point(size=3, aes(color=lg)) +\n",
    "    theme(panel.grid.major.y = element_blank())"
   ]
  },
  {
   "cell_type": "code",
   "execution_count": null,
   "metadata": {},
   "outputs": [],
   "source": [
    "# To improve visualization using scale_colour_brewer() and facet_grid() --> to be seen later\n",
    "ggplot(tophit, aes(x=avg, y=reorder(name,avg))) +\n",
    "    geom_segment(aes(yend=name), xend=0, color=\"grey50\") +\n",
    "    geom_point(size=3, aes(color=lg)) +\n",
    "    scale_colour_brewer(palette=\"Set1\", limit=c(\"NL\", \"AL\")) +\n",
    "    theme(panel.grid.major.y = element_blank()) +\n",
    "    facet_grid(lg ~ ., scales=\"free_y\", space=\"free_y\") # grouping by league; to be seen later"
   ]
  },
  {
   "cell_type": "code",
   "execution_count": null,
   "metadata": {},
   "outputs": [],
   "source": []
  }
 ],
 "metadata": {
  "kernelspec": {
   "display_name": "R",
   "language": "R",
   "name": "ir"
  },
  "language_info": {
   "codemirror_mode": "r",
   "file_extension": ".r",
   "mimetype": "text/x-r-source",
   "name": "R",
   "pygments_lexer": "r",
   "version": "4.0.2"
  }
 },
 "nbformat": 4,
 "nbformat_minor": 2
}
